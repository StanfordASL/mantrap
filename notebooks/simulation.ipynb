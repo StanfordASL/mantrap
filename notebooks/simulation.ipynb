{
 "cells": [
  {
   "cell_type": "code",
   "execution_count": 1,
   "metadata": {},
   "outputs": [
    {
     "name": "stderr",
     "output_type": "stream",
     "text": [
      "┌ Info: Recompiling stale cache file /Users/sele/.julia/compiled/v1.2/MANTRAP/lUgD6.ji for MANTRAP [cc77c7d3-a5fe-44c2-ac7d-e4e207aaf0a8]\n",
      "└ @ Base loading.jl:1240\n"
     ]
    },
    {
     "ename": "ErrorException",
     "evalue": "type DTVAdo has no field position",
     "output_type": "error",
     "traceback": [
      "type DTVAdo has no field position",
      "",
      "Stacktrace:",
      " [1] getproperty(::Any, ::Symbol) at ./Base.jl:20",
      " [2] top-level scope at In[1]:7"
     ]
    }
   ],
   "source": [
    "using MANTRAP: DTVAdo\n",
    "\n",
    "history = [[1.0 2.0];\n",
    "           [3.0 4.0]]\n",
    "\n",
    "ado = DTVAdo(history, 2, 1.0)\n",
    "ado.position()"
   ]
  },
  {
   "cell_type": "code",
   "execution_count": null,
   "metadata": {},
   "outputs": [],
   "source": []
  }
 ],
 "metadata": {
  "kernelspec": {
   "display_name": "Julia 1.2.0",
   "language": "julia",
   "name": "julia-1.2"
  },
  "language_info": {
   "file_extension": ".jl",
   "mimetype": "application/julia",
   "name": "julia",
   "version": "1.2.0"
  }
 },
 "nbformat": 4,
 "nbformat_minor": 1
}
