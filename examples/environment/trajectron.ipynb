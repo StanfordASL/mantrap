{
 "cells": [
  {
   "cell_type": "markdown",
   "metadata": {
    "collapsed": true
   },
   "source": [
    "# Trajectron Examples"
   ]
  },
  {
   "cell_type": "code",
   "execution_count": 1,
   "metadata": {},
   "outputs": [],
   "source": [
    "import torch\n",
    "\n",
    "from mantrap.environment import Trajectron\n",
    "\n",
    "\n",
    "trajectron = Trajectron()\n",
    "trajectron.add_ado(position=torch.zeros(2), velocity=torch.tensor([1, 0]))\n",
    "\n",
    "ado_trajectories = trajectron.predict_wo_ego(t_horizon=5)"
   ]
  },
  {
   "cell_type": "code",
   "execution_count": 11,
   "metadata": {},
   "outputs": [
    {
     "name": "stdout",
     "output_type": "stream",
     "text": [
      "0.00021076202392578125\n",
      "9.918212890625e-05\n",
      "[ 1.01478948  3.5274069   4.86581533  9.62401784 13.09195919 14.29336559\n",
      " 15.52399661 31.32223618 35.56511761 36.14662776 40.12382649 40.4625104\n",
      " 42.57914622 45.12000274 46.50420148 51.34235514 59.4294891  63.86699997\n",
      " 66.9556088  67.13482245 80.38375926 83.02194236 87.4779835  91.01094223\n",
      " 92.16425187]\n",
      "[92.16425187 91.01094223 87.4779835  83.02194236 80.38375926 67.13482245\n",
      " 66.9556088  63.86699997 59.4294891  51.34235514 46.50420148 45.12000274\n",
      " 42.57914622 40.4625104  40.12382649 36.14662776 35.56511761 31.32223618\n",
      " 15.52399661 14.29336559 13.09195919  9.62401784  4.86581533  3.5274069\n",
      "  1.01478948]\n"
     ]
    }
   ],
   "source": [
    "import time\n",
    "import numpy as np\n",
    "\n",
    "a = np.random.rand(25) * 100\n",
    "start_time = time.time()\n",
    "a_sorted = np.sort(a)\n",
    "end_time = time.time()\n",
    "print(end_time - start_time)\n",
    "\n",
    "start_time = time.time()\n",
    "ind = a.argsort()\n",
    "end_time = time.time()\n",
    "print(end_time - start_time)\n",
    "print(a[ind])\n",
    "print(a[ind[::-1]])\n"
   ]
  },
  {
   "cell_type": "code",
   "execution_count": null,
   "metadata": {},
   "outputs": [],
   "source": []
  },
  {
   "cell_type": "code",
   "execution_count": null,
   "metadata": {},
   "outputs": [],
   "source": []
  }
 ],
 "metadata": {
  "kernelspec": {
   "display_name": "Python 3",
   "language": "python",
   "name": "python3"
  },
  "language_info": {
   "codemirror_mode": {
    "name": "ipython",
    "version": 3
   },
   "file_extension": ".py",
   "mimetype": "text/x-python",
   "name": "python",
   "nbconvert_exporter": "python",
   "pygments_lexer": "ipython3",
   "version": "3.7.5"
  }
 },
 "nbformat": 4,
 "nbformat_minor": 1
}
