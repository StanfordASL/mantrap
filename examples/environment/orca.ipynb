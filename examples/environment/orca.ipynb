{
 "cells": [
  {
   "cell_type": "markdown",
   "metadata": {
    "collapsed": true
   },
   "source": [
    "# ORCA Predictions"
   ]
  },
  {
   "cell_type": "code",
   "execution_count": 1,
   "metadata": {},
   "outputs": [],
   "source": [
    "import matplotlib\n",
    "%matplotlib inline\n",
    "import matplotlib.pyplot as plt\n",
    "plt.ioff()\n",
    "from IPython.display import HTML"
   ]
  },
  {
   "cell_type": "code",
   "execution_count": 2,
   "metadata": {},
   "outputs": [
    {
     "data": {
      "text/plain": [
       "<mantrap.agents.integrator.IntegratorDTAgent at 0x12612f750>"
      ]
     },
     "execution_count": 2,
     "metadata": {},
     "output_type": "execute_result"
    }
   ],
   "source": [
    "import torch\n",
    "\n",
    "from mantrap.agents import IntegratorDTAgent\n",
    "from mantrap.constants import *\n",
    "from mantrap.environment import ORCAEnvironment\n",
    "\n",
    "ego_kwargs = {\"position\": torch.tensor([9.9, 9.9]), \"velocity\": torch.zeros(2)}\n",
    "env = ORCAEnvironment(IntegratorDTAgent, ego_kwargs=ego_kwargs, dt=0.2)\n",
    "env.add_ado(position=torch.tensor([5, 0]), velocity=torch.tensor([-0.1, -0.4]), goal=torch.zeros(2))\n",
    "env.add_ado(position=torch.tensor([-4, 2]), velocity=torch.tensor([1, -1]), goal=torch.tensor([4.0, -2.0]))\n",
    "env.add_ado(position=torch.tensor([-2, -2]), velocity=torch.tensor([1, 1]), goal=torch.tensor([2.0, 2.0]))\n",
    "\n",
    "#HTML(env.visualize_prediction_wo_ego(t_horizon=20, interactive=True, enforce=True))"
   ]
  },
  {
   "cell_type": "code",
   "execution_count": 3,
   "metadata": {},
   "outputs": [],
   "source": [
    "ego_trajectory = env.ego.unroll_trajectory(controls=torch.zeros((10, 2)), dt=env.dt)\n",
    "#HTML(env.visualize_prediction(ego_trajectory=ego_trajectory, interactive=True, enforce=True))"
   ]
  },
  {
   "cell_type": "code",
   "execution_count": 4,
   "metadata": {},
   "outputs": [
    {
     "data": {
      "text/plain": [
       "(tensor([[ 1.9000,  0.9000,  0.0000,  0.0000,  0.0000],\n",
       "         [ 1.3343,  0.3343, -2.8284, -2.8284,  0.2000],\n",
       "         [ 0.8383, -0.1735, -2.4800, -2.5391,  0.4000],\n",
       "         [ 0.3623, -0.6487, -2.3799, -2.3758,  0.6000],\n",
       "         [-0.0997, -1.0850, -2.3100, -2.1818,  0.8000],\n",
       "         [-0.0997, -1.0850,  0.0000,  0.0000,  1.0000],\n",
       "         [-0.2420, -1.2255, -0.7118, -0.7023,  1.2000],\n",
       "         [-0.3072, -1.2932, -0.3259, -0.3387,  1.4000],\n",
       "         [-0.3953, -1.4728, -0.4405, -0.8978,  1.6000],\n",
       "         [-0.4834, -1.6523, -0.4405, -0.8978,  1.8000]]),\n",
       " tensor([[[[ 5.0000,  0.0000, -0.1000, -0.4000,  0.0000],\n",
       "           [ 4.2000,  0.0000, -4.0000,  0.0000,  0.2000],\n",
       "           [ 3.4000,  0.0000, -4.0000,  0.0000,  0.4000],\n",
       "           [ 2.6000,  0.0000, -4.0000,  0.0000,  0.6000],\n",
       "           [ 1.8000,  0.0000, -4.0000,  0.0000,  0.8000],\n",
       "           [ 1.0000,  0.0000, -4.0000,  0.0000,  1.0000],\n",
       "           [ 1.1424,  0.1405,  0.7118,  0.7023,  1.2000],\n",
       "           [ 0.3483,  0.0428, -3.9701, -0.4882,  1.4000],\n",
       "           [ 0.4364,  0.2224,  0.4405,  0.8978,  1.6000],\n",
       "           [ 0.4364,  0.2224,  0.0000,  0.0000,  1.8000]]]]))"
      ]
     },
     "execution_count": 4,
     "metadata": {},
     "output_type": "execute_result"
    }
   ],
   "source": [
    "from mantrap.solver import ORCASolver\n",
    "\n",
    "ego_kwargs = {\"position\": torch.tensor([1.9, 0.9]), \"velocity\": torch.zeros(2)}\n",
    "env = ORCAEnvironment(IntegratorDTAgent, ego_kwargs=ego_kwargs, dt=0.2)\n",
    "env.add_ado(position=torch.tensor([5, 0]), velocity=torch.tensor([-0.1, -0.4]), goal=torch.zeros(2))\n",
    "\n",
    "solver = ORCASolver(env, goal=torch.tensor([0, -1]), t_planning=1)\n",
    "solver.solve(time_steps=10)"
   ]
  },
  {
   "cell_type": "code",
   "execution_count": null,
   "metadata": {},
   "outputs": [],
   "source": []
  }
 ],
 "metadata": {
  "kernelspec": {
   "display_name": "Python 3",
   "language": "python",
   "name": "python3"
  },
  "language_info": {
   "codemirror_mode": {
    "name": "ipython",
    "version": 3
   },
   "file_extension": ".py",
   "mimetype": "text/x-python",
   "name": "python",
   "nbconvert_exporter": "python",
   "pygments_lexer": "ipython3",
   "version": "3.7.5"
  }
 },
 "nbformat": 4,
 "nbformat_minor": 1
}
