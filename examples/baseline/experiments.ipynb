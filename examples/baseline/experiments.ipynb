{
 "cells": [
  {
   "cell_type": "markdown",
   "metadata": {
    "collapsed": true
   },
   "source": [
    "# Baselines"
   ]
  },
  {
   "cell_type": "code",
   "execution_count": 1,
   "metadata": {},
   "outputs": [],
   "source": [
    "import itertools\n",
    "import mantrap\n",
    "import mantrap_evaluation\n",
    "import numpy as np\n",
    "import pandas as pd\n",
    "import torch\n",
    "from tqdm.notebook import tqdm"
   ]
  },
  {
   "cell_type": "markdown",
   "metadata": {},
   "source": [
    "### Evaluation Configuration"
   ]
  },
  {
   "cell_type": "code",
   "execution_count": 2,
   "metadata": {},
   "outputs": [],
   "source": [
    "max_time_steps = 10\n",
    "num_tests = 1"
   ]
  },
  {
   "cell_type": "markdown",
   "metadata": {},
   "source": [
    "### Testing Scenarios"
   ]
  },
  {
   "cell_type": "code",
   "execution_count": 3,
   "metadata": {},
   "outputs": [
    {
     "name": "stdout",
     "output_type": "stream",
     "text": [
      "(40, 5)\n"
     ]
    },
    {
     "data": {
      "text/html": [
       "<div>\n",
       "<style scoped>\n",
       "    .dataframe tbody tr th:only-of-type {\n",
       "        vertical-align: middle;\n",
       "    }\n",
       "\n",
       "    .dataframe tbody tr th {\n",
       "        vertical-align: top;\n",
       "    }\n",
       "\n",
       "    .dataframe thead th {\n",
       "        text-align: right;\n",
       "    }\n",
       "</style>\n",
       "<table border=\"1\" class=\"dataframe\">\n",
       "  <thead>\n",
       "    <tr style=\"text-align: right;\">\n",
       "      <th></th>\n",
       "      <th>env</th>\n",
       "      <th>env_name</th>\n",
       "      <th>goal</th>\n",
       "      <th>num_ados</th>\n",
       "      <th>scenario</th>\n",
       "    </tr>\n",
       "  </thead>\n",
       "  <tbody>\n",
       "    <tr>\n",
       "      <td>0</td>\n",
       "      <td>&lt;mantrap.environment.simplified.potential_fiel...</td>\n",
       "      <td>potential_field</td>\n",
       "      <td>[tensor(-8.2305), tensor(-7.3594)]</td>\n",
       "      <td>10.0</td>\n",
       "      <td>0.0</td>\n",
       "    </tr>\n",
       "    <tr>\n",
       "      <td>1</td>\n",
       "      <td>&lt;mantrap.environment.trajectron.Trajectron obj...</td>\n",
       "      <td>trajectron</td>\n",
       "      <td>[tensor(-8.2305), tensor(-7.3594)]</td>\n",
       "      <td>10.0</td>\n",
       "      <td>0.0</td>\n",
       "    </tr>\n",
       "    <tr>\n",
       "      <td>2</td>\n",
       "      <td>&lt;mantrap.environment.simplified.potential_fiel...</td>\n",
       "      <td>potential_field</td>\n",
       "      <td>[tensor(-8.2305), tensor(-7.3594)]</td>\n",
       "      <td>10.0</td>\n",
       "      <td>0.0</td>\n",
       "    </tr>\n",
       "    <tr>\n",
       "      <td>3</td>\n",
       "      <td>&lt;mantrap.environment.trajectron.Trajectron obj...</td>\n",
       "      <td>trajectron</td>\n",
       "      <td>[tensor(-8.2305), tensor(-7.3594)]</td>\n",
       "      <td>10.0</td>\n",
       "      <td>0.0</td>\n",
       "    </tr>\n",
       "    <tr>\n",
       "      <td>4</td>\n",
       "      <td>&lt;mantrap.environment.simplified.potential_fiel...</td>\n",
       "      <td>potential_field</td>\n",
       "      <td>[tensor(-8.2305), tensor(-7.3594)]</td>\n",
       "      <td>10.0</td>\n",
       "      <td>0.0</td>\n",
       "    </tr>\n",
       "  </tbody>\n",
       "</table>\n",
       "</div>"
      ],
      "text/plain": [
       "                                                 env         env_name  \\\n",
       "0  <mantrap.environment.simplified.potential_fiel...  potential_field   \n",
       "1  <mantrap.environment.trajectron.Trajectron obj...       trajectron   \n",
       "2  <mantrap.environment.simplified.potential_fiel...  potential_field   \n",
       "3  <mantrap.environment.trajectron.Trajectron obj...       trajectron   \n",
       "4  <mantrap.environment.simplified.potential_fiel...  potential_field   \n",
       "\n",
       "                                 goal  num_ados  scenario  \n",
       "0  [tensor(-8.2305), tensor(-7.3594)]      10.0       0.0  \n",
       "1  [tensor(-8.2305), tensor(-7.3594)]      10.0       0.0  \n",
       "2  [tensor(-8.2305), tensor(-7.3594)]      10.0       0.0  \n",
       "3  [tensor(-8.2305), tensor(-7.3594)]      10.0       0.0  \n",
       "4  [tensor(-8.2305), tensor(-7.3594)]      10.0       0.0  "
      ]
     },
     "execution_count": 3,
     "metadata": {},
     "output_type": "execute_result"
    }
   ],
   "source": [
    "config_num_ados = [10, 8, 4, 2]\n",
    "config_num_scenarios = [int(np.random.rand(1)) * 9999 for _ in range(5)]\n",
    "\n",
    "environments = [mantrap.environment.PotentialFieldEnvironment, \n",
    "                mantrap.environment.Trajectron]\n",
    "\n",
    "scenarios_df = pd.DataFrame()\n",
    "for num_ados, i, env_type in itertools.product(*[config_num_ados, config_num_scenarios, environments]):\n",
    "    torch.manual_seed(i)\n",
    "    env, goal, _ = mantrap_evaluation.scenarios.random(env_type, num_ados=num_ados)\n",
    "    scenarios_df = scenarios_df.append({\"num_ados\": num_ados, \"scenario\": i, \"env_name\": env.name, \n",
    "                                        \"env\": env, \"goal\": goal}, ignore_index=True)\n",
    "\n",
    "print(scenarios_df.shape)\n",
    "scenarios_df.head()"
   ]
  },
  {
   "cell_type": "markdown",
   "metadata": {},
   "source": [
    "### Solver configuration"
   ]
  },
  {
   "cell_type": "code",
   "execution_count": 4,
   "metadata": {},
   "outputs": [],
   "source": [
    "solvers = [(mantrap.solver.baselines.RRTStarSolver, \"rrt_star\"),\n",
    "           (mantrap.solver.baselines.ORCASolver, \"orca\"),\n",
    "           (mantrap.solver.baselines.MonteCarloTreeSearch, \"mcts\"), \n",
    "           (mantrap.solver.IPOPTSolver, \"ipopt\")]\n",
    "\n",
    "modules = [(None, \"default\"),  # default\n",
    "           ([mantrap.modules.baselines.InteractionEllipsoidModule, \n",
    "            mantrap.modules.ControlLimitModule, mantrap.modules.GoalNormModule], \"ellipsoidal\"),\n",
    "           ([mantrap.modules.baselines.InteractionPositionModule, \n",
    "            mantrap.modules.ControlLimitModule, mantrap.modules.GoalNormModule], \"inter_pos\")]\n",
    "\n",
    "warm_starts = [None,   # default - warm_start_hard\n",
    "               mantrap.constants.WARM_START_POTENTIAL,\n",
    "               mantrap.constants.WARM_START_ZEROS]\n",
    "\n",
    "attentions = [(mantrap.attention.ClosestModule, \"closest\"), \n",
    "              (mantrap.attention.EuclideanModule, \"euclidean\"),\n",
    "              (None, \"none\")]  # default\n",
    "\n",
    "max_cpu_runtimes = [0.5, 1.0, 2.0]"
   ]
  },
  {
   "cell_type": "code",
   "execution_count": 5,
   "metadata": {},
   "outputs": [
    {
     "name": "stdout",
     "output_type": "stream",
     "text": [
      "(90, 8)\n"
     ]
    },
    {
     "data": {
      "text/html": [
       "<div>\n",
       "<style scoped>\n",
       "    .dataframe tbody tr th:only-of-type {\n",
       "        vertical-align: middle;\n",
       "    }\n",
       "\n",
       "    .dataframe tbody tr th {\n",
       "        vertical-align: top;\n",
       "    }\n",
       "\n",
       "    .dataframe thead th {\n",
       "        text-align: right;\n",
       "    }\n",
       "</style>\n",
       "<table border=\"1\" class=\"dataframe\">\n",
       "  <thead>\n",
       "    <tr style=\"text-align: right;\">\n",
       "      <th></th>\n",
       "      <th>attention</th>\n",
       "      <th>attention_name</th>\n",
       "      <th>max_cpu_time</th>\n",
       "      <th>modules</th>\n",
       "      <th>modules_name</th>\n",
       "      <th>solver_name</th>\n",
       "      <th>solver_type</th>\n",
       "      <th>warm_start</th>\n",
       "    </tr>\n",
       "  </thead>\n",
       "  <tbody>\n",
       "    <tr>\n",
       "      <td>0</td>\n",
       "      <td>None</td>\n",
       "      <td>none</td>\n",
       "      <td>0.5</td>\n",
       "      <td>None</td>\n",
       "      <td>default</td>\n",
       "      <td>rrt_star</td>\n",
       "      <td>&lt;class 'mantrap.solver.baselines.rrt_star.RRTS...</td>\n",
       "      <td>None</td>\n",
       "    </tr>\n",
       "    <tr>\n",
       "      <td>1</td>\n",
       "      <td>None</td>\n",
       "      <td>none</td>\n",
       "      <td>1.0</td>\n",
       "      <td>None</td>\n",
       "      <td>default</td>\n",
       "      <td>rrt_star</td>\n",
       "      <td>&lt;class 'mantrap.solver.baselines.rrt_star.RRTS...</td>\n",
       "      <td>None</td>\n",
       "    </tr>\n",
       "    <tr>\n",
       "      <td>2</td>\n",
       "      <td>None</td>\n",
       "      <td>none</td>\n",
       "      <td>2.0</td>\n",
       "      <td>None</td>\n",
       "      <td>default</td>\n",
       "      <td>rrt_star</td>\n",
       "      <td>&lt;class 'mantrap.solver.baselines.rrt_star.RRTS...</td>\n",
       "      <td>None</td>\n",
       "    </tr>\n",
       "    <tr>\n",
       "      <td>3</td>\n",
       "      <td>None</td>\n",
       "      <td>none</td>\n",
       "      <td>0.5</td>\n",
       "      <td>None</td>\n",
       "      <td>default</td>\n",
       "      <td>orca</td>\n",
       "      <td>&lt;class 'mantrap.solver.baselines.orca.ORCASolv...</td>\n",
       "      <td>None</td>\n",
       "    </tr>\n",
       "    <tr>\n",
       "      <td>4</td>\n",
       "      <td>None</td>\n",
       "      <td>none</td>\n",
       "      <td>1.0</td>\n",
       "      <td>None</td>\n",
       "      <td>default</td>\n",
       "      <td>orca</td>\n",
       "      <td>&lt;class 'mantrap.solver.baselines.orca.ORCASolv...</td>\n",
       "      <td>None</td>\n",
       "    </tr>\n",
       "  </tbody>\n",
       "</table>\n",
       "</div>"
      ],
      "text/plain": [
       "  attention attention_name  max_cpu_time modules modules_name solver_name  \\\n",
       "0      None           none           0.5    None      default    rrt_star   \n",
       "1      None           none           1.0    None      default    rrt_star   \n",
       "2      None           none           2.0    None      default    rrt_star   \n",
       "3      None           none           0.5    None      default        orca   \n",
       "4      None           none           1.0    None      default        orca   \n",
       "\n",
       "                                         solver_type warm_start  \n",
       "0  <class 'mantrap.solver.baselines.rrt_star.RRTS...       None  \n",
       "1  <class 'mantrap.solver.baselines.rrt_star.RRTS...       None  \n",
       "2  <class 'mantrap.solver.baselines.rrt_star.RRTS...       None  \n",
       "3  <class 'mantrap.solver.baselines.orca.ORCASolv...       None  \n",
       "4  <class 'mantrap.solver.baselines.orca.ORCASolv...       None  "
      ]
     },
     "execution_count": 5,
     "metadata": {},
     "output_type": "execute_result"
    }
   ],
   "source": [
    "configs_df = pd.DataFrame()\n",
    "combined = [solvers, modules, warm_starts, attentions, max_cpu_runtimes]\n",
    "for solver, module, warm_start, attention, max_cpu_time in itertools.product(*combined):\n",
    "    solver, solver_name = solver\n",
    "    module, module_name = module\n",
    "    attention, attention_name = attention\n",
    "    \n",
    "    if solver != mantrap.solver.IPOPTSolver and any([module, warm_start, attention]):\n",
    "        continue\n",
    "    \n",
    "    configs_df = configs_df.append({\"solver_type\": solver, \"solver_name\": solver_name, \n",
    "                                    \"modules\": module, \"modules_name\": module_name, \n",
    "                                    \"attention\": attention, \"attention_name\": attention_name,\n",
    "                                    \"warm_start\": warm_start, \"max_cpu_time\": max_cpu_time}, \n",
    "                                    ignore_index=True)\n",
    "print(configs_df.shape)\n",
    "configs_df.head()"
   ]
  },
  {
   "cell_type": "markdown",
   "metadata": {},
   "source": [
    "### Running evaluation "
   ]
  },
  {
   "cell_type": "code",
   "execution_count": null,
   "metadata": {},
   "outputs": [],
   "source": [
    "eval_df = pd.DataFrame()\n",
    "for _, sdf in tqdm(scenarios_df.iterrows(), total=len(scenarios_df.index)):\n",
    "    scenario_id = sdf[\"scenario\"]\n",
    "    torch.manual_seed(scenario_id)\n",
    "    \n",
    "    for _, cdf in tqdm(configs_df.iterrows(), total=len(configs_df.index)):\n",
    "        solver_obj = cdf[\"solver_type\"]\n",
    "        env_obj = sdf[\"env\"]\n",
    "\n",
    "        # try:\n",
    "        solver = solver_obj(**cdf.to_dict(), **sdf.to_dict())\n",
    "        eval_df_k, _, _ = mantrap_evaluation.evaluate(solver, mean_df=False, **sdf.to_dict(), **cdf.to_dict(),\n",
    "                                                      max_time_steps=max_time_steps, num_tests=num_tests)\n",
    "\n",
    "        for _, eval_df_ki in eval_df_k.iterrows():\n",
    "            eval_df = eval_df.append(pd.concat([eval_df_ki, cdf.copy(), sdf.copy()]), ignore_index=True)\n",
    "        eval_df.to_pickle(\"eval_data.pkl\")\n",
    "\n",
    "        # except:\n",
    "        #     pass"
   ]
  },
  {
   "cell_type": "code",
   "execution_count": null,
   "metadata": {},
   "outputs": [],
   "source": []
  }
 ],
 "metadata": {
  "kernelspec": {
   "display_name": "Python 3",
   "language": "python",
   "name": "python3"
  },
  "language_info": {
   "codemirror_mode": {
    "name": "ipython",
    "version": 3
   },
   "file_extension": ".py",
   "mimetype": "text/x-python",
   "name": "python",
   "nbconvert_exporter": "python",
   "pygments_lexer": "ipython3",
   "version": "3.6.12"
  }
 },
 "nbformat": 4,
 "nbformat_minor": 1
}
