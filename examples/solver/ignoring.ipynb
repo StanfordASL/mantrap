{
 "cells": [
  {
   "cell_type": "markdown",
   "metadata": {
    "collapsed": true
   },
   "source": [
    "# Ignoring Solver"
   ]
  },
  {
   "cell_type": "code",
   "execution_count": 3,
   "metadata": {},
   "outputs": [],
   "source": [
    "import matplotlib\n",
    "%matplotlib inline\n",
    "import matplotlib.pyplot as plt\n",
    "plt.ioff()\n",
    "from IPython.display import HTML"
   ]
  },
  {
   "cell_type": "code",
   "execution_count": null,
   "metadata": {},
   "outputs": [
    {
     "name": "stdout",
     "output_type": "stream",
     "text": [
      "[0.5 0.5 0.5]\n"
     ]
    }
   ],
   "source": [
    "import torch\n",
    "\n",
    "from mantrap.agents import IntegratorDTAgent\n",
    "from mantrap.environment import PotentialFieldEnvironment\n",
    "from mantrap.solver import IgnoringSolver\n",
    "\n",
    "env = PotentialFieldEnvironment(IntegratorDTAgent, {\"position\": torch.zeros(2), \"velocity\": torch.ones(2)})\n",
    "solver = IgnoringSolver(env=env, goal=torch.tensor([9, 0]), t_planning=3, verbose=1)\n",
    "solver.solve(time_steps=20)\n",
    "\n",
    "HTML(solver.visualize_scenes(enforce=True, interactive=True))"
   ]
  },
  {
   "cell_type": "code",
   "execution_count": null,
   "metadata": {},
   "outputs": [],
   "source": []
  }
 ],
 "metadata": {
  "kernelspec": {
   "display_name": "Python 3",
   "language": "python",
   "name": "python3"
  },
  "language_info": {
   "codemirror_mode": {
    "name": "ipython",
    "version": 3
   },
   "file_extension": ".py",
   "mimetype": "text/x-python",
   "name": "python",
   "nbconvert_exporter": "python",
   "pygments_lexer": "ipython3",
   "version": "3.7.7"
  }
 },
 "nbformat": 4,
 "nbformat_minor": 1
}
