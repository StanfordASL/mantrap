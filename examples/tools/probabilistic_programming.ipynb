{
 "cells": [
  {
   "cell_type": "markdown",
   "metadata": {
    "collapsed": true
   },
   "source": [
    "# Probabilistic Programming"
   ]
  },
  {
   "cell_type": "code",
   "execution_count": 3,
   "metadata": {},
   "outputs": [
    {
     "name": "stdout",
     "output_type": "stream",
     "text": [
      "Collecting pyro-ppl\n",
      "  Downloading pyro_ppl-1.3.1-py3-none-any.whl (520 kB)\n",
      "\u001b[K     |████████████████████████████████| 520 kB 1.7 MB/s eta 0:00:01\n",
      "\u001b[?25hCollecting pyro-api>=0.1.1\n",
      "  Downloading pyro_api-0.1.2-py3-none-any.whl (11 kB)\n",
      "Requirement already satisfied: tqdm>=4.36 in /Users/sele/Projects/mantrap/.venv_mantrap/lib/python3.7/site-packages (from pyro-ppl) (4.46.0)\n",
      "Collecting opt-einsum>=2.3.2\n",
      "  Downloading opt_einsum-3.2.1-py3-none-any.whl (63 kB)\n",
      "\u001b[K     |████████████████████████████████| 63 kB 1.7 MB/s eta 0:00:01\n",
      "\u001b[?25hRequirement already satisfied: numpy>=1.7 in /Users/sele/Projects/mantrap/.venv_mantrap/lib/python3.7/site-packages (from pyro-ppl) (1.16.4)\n",
      "Collecting torch>=1.4.0\n",
      "  Using cached torch-1.5.0-cp37-none-macosx_10_9_x86_64.whl (80.5 MB)\n",
      "Requirement already satisfied: future in /Users/sele/Projects/mantrap/.venv_mantrap/lib/python3.7/site-packages/future-0.18.2-py3.7.egg (from torch>=1.4.0->pyro-ppl) (0.18.2)\n",
      "Installing collected packages: pyro-api, opt-einsum, torch, pyro-ppl\n",
      "  Attempting uninstall: torch\n",
      "    Found existing installation: torch 1.2.0\n",
      "    Uninstalling torch-1.2.0:\n",
      "      Successfully uninstalled torch-1.2.0\n",
      "Successfully installed opt-einsum-3.2.1 pyro-api-0.1.2 pyro-ppl-1.3.1 torch-1.5.0\n"
     ]
    }
   ],
   "source": [
    "!pip3 install pyro-ppl"
   ]
  },
  {
   "cell_type": "markdown",
   "metadata": {},
   "source": [
    "### Addition "
   ]
  },
  {
   "cell_type": "code",
   "execution_count": 28,
   "metadata": {},
   "outputs": [
    {
     "data": {
      "text/plain": [
       "tensor([7])"
      ]
     },
     "execution_count": 28,
     "metadata": {},
     "output_type": "execute_result"
    }
   ],
   "source": [
    "import pyro\n",
    "import torch\n",
    "\n",
    "\n",
    "unit_precision = torch.ones((1, 1)).inverse().view(1, 1)  # inverse variance (independent parameters)\n",
    "\n",
    "g1 = pyro.ops.gaussian.Gaussian(1, torch.tensor([5]), precision=torch.ones((1, 1)).inverse().view(1, 1))\n",
    "g2 = pyro.ops.gaussian.Gaussian(1, torch.tensor([2]), precision=(torch.ones((1, 1)) * 4).inverse().view(1, 1))\n",
    "\n",
    "g3 = g1 + g2\n",
    "g3.info_vec"
   ]
  },
  {
   "cell_type": "markdown",
   "metadata": {},
   "source": [
    "### Norm"
   ]
  },
  {
   "cell_type": "code",
   "execution_count": 43,
   "metadata": {},
   "outputs": [
    {
     "data": {
      "text/plain": [
       "tensor(3.0794)"
      ]
     },
     "execution_count": 43,
     "metadata": {},
     "output_type": "execute_result"
    }
   ],
   "source": [
    "# no analytical norm distance, so sample-wise\n",
    "# (comp. https://www.ee.columbia.edu/~dpwe/pubs/JenECJ07-gmmdist.pdf)\n",
    "import pyro\n",
    "import torch\n",
    "\n",
    "loc_1 = torch.tensor([5.0], requires_grad=True)\n",
    "g1 = pyro.distributions.Normal(loc=loc_1, scale=torch.ones(1))\n",
    "g2 = pyro.distributions.Normal(loc=torch.tensor([2.0]), scale=torch.ones(1) * 4)\n",
    "\n",
    "# g3 = g1 - g2  # not supported\n",
    "g1_samples = g1.sample((1000, ))\n",
    "g2_samples = g2.sample((1000, ))\n",
    "\n",
    "g3_mean = torch.mean(g1_samples - g2_samples)\n",
    "# torch.autograd.grad(g3_mean, loc_1) ==> comparably long runtime\n",
    "g3_mean"
   ]
  }
 ],
 "metadata": {
  "kernelspec": {
   "display_name": "Python 3",
   "language": "python",
   "name": "python3"
  },
  "language_info": {
   "codemirror_mode": {
    "name": "ipython",
    "version": 3
   },
   "file_extension": ".py",
   "mimetype": "text/x-python",
   "name": "python",
   "nbconvert_exporter": "python",
   "pygments_lexer": "ipython3",
   "version": "3.7.7"
  }
 },
 "nbformat": 4,
 "nbformat_minor": 1
}
