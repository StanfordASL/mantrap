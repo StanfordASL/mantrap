{
 "cells": [
  {
   "cell_type": "markdown",
   "metadata": {
    "collapsed": true
   },
   "source": [
    "# Timing Comparisons"
   ]
  },
  {
   "cell_type": "code",
   "execution_count": 28,
   "metadata": {},
   "outputs": [
    {
     "name": "stdout",
     "output_type": "stream",
     "text": [
      "32.4 µs ± 2.66 µs per loop (mean ± std. dev. of 7 runs, 10000 loops each)\n",
      "44.7 µs ± 869 ns per loop (mean ± std. dev. of 7 runs, 10000 loops each)\n",
      "11.8 µs ± 882 ns per loop (mean ± std. dev. of 7 runs, 100000 loops each)\n"
     ]
    }
   ],
   "source": [
    "from typing import Tuple\n",
    "\n",
    "import torch\n",
    "\n",
    "dt = 0.4\n",
    "\n",
    "def scalar_dynamics(px: float, py: float, vx: float, vy: float, ux: float, uy: float\n",
    "                    ) -> Tuple[float, float, float, float]:\n",
    "        return px + ux * dt, py + uy * dt, ux, uy\n",
    "\n",
    "def vector_dynamics(state: torch.Tensor, action: torch.Tensor) -> torch.Tensor:\n",
    "    action = action.float()\n",
    "\n",
    "    state_new = torch.zeros(5)\n",
    "    state_new[2:4] = action  # velocity\n",
    "    state_new[0:2] = state[0:2] + state_new[2:4] * dt\n",
    "    state_new[4] = state[-1] + dt\n",
    "    \n",
    "    return state_new\n",
    "\n",
    "A = torch.tensor([[1, 0, 0, 0, 0], \n",
    "              [0, 1, 0, 0, 0],\n",
    "              [0, 0, 0, 0, 0], \n",
    "              [0, 0, 0, 0, 0],\n",
    "              [0, 0, 0, 0, 1]]).float()\n",
    "B = torch.tensor([[dt, 0, 1, 0, 0],\n",
    "                  [0, dt, 0, 1, 0]]).t().float()\n",
    "T = torch.tensor([0, 0, 0, 0, dt]).t().float()\n",
    "\n",
    "\n",
    "def matrix_dynamics(state: torch.Tensor, action: torch.Tensor) -> torch.Tensor:\n",
    "    return torch.mv(A, state) + torch.mv(B, action) + T\n",
    "\n",
    "state = torch.rand(5).float()\n",
    "action = torch.rand(2).float()\n",
    "\n",
    "%timeit scalar_dynamics(state[0], state[1], state[2], state[3], action[0], action[1])\n",
    "%timeit vector_dynamics(state, action)\n",
    "%timeit matrix_dynamics(state, action)"
   ]
  },
  {
   "cell_type": "code",
   "execution_count": 22,
   "metadata": {},
   "outputs": [
    {
     "name": "stdout",
     "output_type": "stream",
     "text": [
      "65.1 µs ± 507 ns per loop (mean ± std. dev. of 7 runs, 10000 loops each)\n",
      "81.1 µs ± 915 ns per loop (mean ± std. dev. of 7 runs, 10000 loops each)\n"
     ]
    }
   ],
   "source": [
    "import torch\n",
    "\n",
    "def loss_norm(x: torch.Tensor):\n",
    "    loss = torch.sum(torch.norm(x, dim=1))\n",
    "    gradient = torch.autograd.grad(loss, x, retain_graph=True, allow_unused=False)[0]\n",
    "    \n",
    "def loss_sum_of_squares(x: torch.Tensor):\n",
    "    loss = torch.sum(torch.sqrt(torch.sum(x.pow(2), dim=1)))\n",
    "    gradient = torch.autograd.grad(loss, x, retain_graph=True, allow_unused=False)[0]\n",
    "\n",
    "A = torch.rand(20, 2)\n",
    "A.requires_grad = True\n",
    "\n",
    "%timeit loss_norm(A)\n",
    "%timeit loss_sum_of_squares(A)"
   ]
  }
 ],
 "metadata": {
  "kernelspec": {
   "display_name": "Python 3",
   "language": "python",
   "name": "python3"
  },
  "language_info": {
   "codemirror_mode": {
    "name": "ipython",
    "version": 3
   },
   "file_extension": ".py",
   "mimetype": "text/x-python",
   "name": "python",
   "nbconvert_exporter": "python",
   "pygments_lexer": "ipython3",
   "version": "3.7.7"
  }
 },
 "nbformat": 4,
 "nbformat_minor": 1
}
