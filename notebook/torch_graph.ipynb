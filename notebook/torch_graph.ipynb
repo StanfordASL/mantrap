{
 "cells": [
  {
   "cell_type": "code",
   "execution_count": 23,
   "metadata": {},
   "outputs": [
    {
     "name": "stdout",
     "output_type": "stream",
     "text": [
      "tensor([0.2833, 0.9590])\n",
      "tensor([0.7412, 1.5489], requires_grad=True)\n"
     ]
    }
   ],
   "source": [
    "import numpy as np\n",
    "import torch\n",
    "\n",
    "a1 = torch.randn(2, requires_grad=True)\n",
    "a2 = torch.randn(2, requires_grad=True)\n",
    "\n",
    "b = torch.add(a1, a2)\n",
    "c = torch.norm(b)\n",
    "\n",
    "c.backward(retain_graph=True)\n",
    "print(a1.grad)\n",
    "print(a1)"
   ]
  },
  {
   "cell_type": "code",
   "execution_count": 24,
   "metadata": {},
   "outputs": [
    {
     "name": "stdout",
     "output_type": "stream",
     "text": [
      "tensor([0.5667, 1.9180])\n",
      "tensor([1.1871, 1.6016], requires_grad=True)\n"
     ]
    }
   ],
   "source": [
    "a1.data = torch.randn(2)\n",
    "c.backward()\n",
    "print(a1.grad)\n",
    "print(a1)"
   ]
  },
  {
   "cell_type": "code",
   "execution_count": null,
   "metadata": {},
   "outputs": [],
   "source": []
  }
 ],
 "metadata": {
  "kernelspec": {
   "display_name": "Python 3",
   "language": "python",
   "name": "python3"
  },
  "language_info": {
   "codemirror_mode": {
    "name": "ipython",
    "version": 3
   },
   "file_extension": ".py",
   "mimetype": "text/x-python",
   "name": "python",
   "nbconvert_exporter": "python",
   "pygments_lexer": "ipython3",
   "version": "3.7.5"
  }
 },
 "nbformat": 4,
 "nbformat_minor": 2
}
